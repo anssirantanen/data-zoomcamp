{
 "cells": [
  {
   "cell_type": "code",
   "execution_count": 2,
   "id": "7adaa748-2432-41e3-95f6-e580fb39e1ce",
   "metadata": {},
   "outputs": [],
   "source": [
    "import pyspark\n",
    "import pandas as pd\n",
    "from pyspark.sql import SparkSession, Row\n",
    "from datetime import datetime, date\n",
    "from pyspark.sql import functions as F\n",
    "spark = SparkSession.builder.remote(\"sc://localhost:15002\").getOrCreate()"
   ]
  },
  {
   "cell_type": "code",
   "execution_count": 3,
   "id": "9aabaa90-3410-476e-84a9-fce6c670b12f",
   "metadata": {},
   "outputs": [
    {
     "data": {
      "text/plain": [
       "['VendorID',\n",
       " 'tpep_pickup_datetime',\n",
       " 'tpep_dropoff_datetime',\n",
       " 'passenger_count',\n",
       " 'trip_distance',\n",
       " 'RatecodeID',\n",
       " 'store_and_fwd_flag',\n",
       " 'PULocationID',\n",
       " 'DOLocationID',\n",
       " 'payment_type',\n",
       " 'fare_amount',\n",
       " 'extra',\n",
       " 'mta_tax',\n",
       " 'tip_amount',\n",
       " 'tolls_amount',\n",
       " 'improvement_surcharge',\n",
       " 'total_amount',\n",
       " 'congestion_surcharge',\n",
       " 'airport_fee']"
      ]
     },
     "execution_count": 3,
     "metadata": {},
     "output_type": "execute_result"
    }
   ],
   "source": [
    "df_green = spark.read.parquet(\"/datasets/green_tripdata_2020-01.parquet\")\n",
    "df_yellow = spark.read.parquet(\"/datasets/yellow_tripdata_2020-01.parquet\")\n",
    "#df_green.columns\n",
    "df_yellow.columns"
   ]
  },
  {
   "cell_type": "code",
   "execution_count": 4,
   "id": "47ac01be-73e4-4b5b-9e98-5ce60ef6de28",
   "metadata": {},
   "outputs": [],
   "source": [
    "df_yellow = df_yellow \\\n",
    "    .withColumnRenamed(\"tpep_pickup_datetime\", \"pickup_datetime\") \\\n",
    "    .withColumnRenamed(\"tpep_dropoff_datetime\", \"dropoff_datetime\") \n",
    "df_green = df_green \\\n",
    "    .withColumnRenamed(\"lpep_pickup_datetime\", \"pickup_datetime\") \\\n",
    "    .withColumnRenamed(\"lpep_dropoff_datetime\", \"dropoff_datetime\") "
   ]
  },
  {
   "cell_type": "code",
   "execution_count": 7,
   "id": "7211da5b-0548-4d23-8a95-2600dc5f496a",
   "metadata": {},
   "outputs": [],
   "source": [
    "same_columns = list(set(df_yellow.columns).intersection(set(df_green.columns)))"
   ]
  },
  {
   "cell_type": "code",
   "execution_count": 11,
   "id": "d27cde04-f7cf-48f6-b795-e1dff0a80abd",
   "metadata": {},
   "outputs": [
    {
     "name": "stdout",
     "output_type": "stream",
     "text": [
      "+------------+-------------+------------------+----------+-----+---------------------+-------+--------+-----------+------------+------------+----------+------------+--------------------+---------------+-------------------+-------------------+------------+------------+\n",
      "|tolls_amount|trip_distance|store_and_fwd_flag|RatecodeID|extra|improvement_surcharge|mta_tax|VendorID|fare_amount|total_amount|payment_type|tip_amount|DOLocationID|congestion_surcharge|passenger_count|    pickup_datetime|   dropoff_datetime|PULocationID|service_type|\n",
      "+------------+-------------+------------------+----------+-----+---------------------+-------+--------+-----------+------------+------------+----------+------------+--------------------+---------------+-------------------+-------------------+------------+------------+\n",
      "|         0.0|          0.0|                 N|       1.0|  0.5|                  0.3|    0.5|       2|        3.5|        4.81|         1.0|      0.01|         264|                 0.0|            5.0|2019-12-18 15:52:30|2019-12-18 15:54:39|         264|       green|\n",
      "|         0.0|         1.28|                 N|       5.0|  0.0|                  0.3|    0.0|       2|       20.0|       24.36|         1.0|      4.06|          65|                 0.0|            2.0|2020-01-01 00:45:58|2020-01-01 00:56:39|          66|       green|\n",
      "|         0.0|         2.47|                 N|       1.0|  0.5|                  0.3|    0.5|       2|       10.5|       15.34|         1.0|      3.54|         228|                 0.0|            1.0|2020-01-01 00:41:38|2020-01-01 00:52:49|         181|       green|\n",
      "|         0.0|          6.3|                 N|       1.0| 3.25|                  0.3|    0.5|       1|       21.0|       25.05|         2.0|       0.0|         263|                2.75|            2.0|2020-01-01 00:52:46|2020-01-01 01:14:21|         129|       green|\n",
      "|         0.0|          2.3|                 N|       1.0|  0.5|                  0.3|    0.5|       1|       10.0|        11.3|         1.0|       0.0|         150|                 0.0|            1.0|2020-01-01 00:19:57|2020-01-01 00:30:56|         210|       green|\n",
      "|         0.0|          3.0|                 N|       1.0|  0.5|                  0.3|    0.5|       1|       13.5|        14.8|         1.0|       0.0|          39|                 0.0|            1.0|2020-01-01 00:52:33|2020-01-01 01:09:54|          35|       green|\n",
      "|         0.0|         2.77|                 N|       1.0|  0.5|                  0.3|    0.5|       2|       11.0|        12.3|         2.0|       0.0|          61|                 0.0|            1.0|2020-01-01 00:10:18|2020-01-01 00:22:16|          25|       green|\n",
      "|         0.0|         4.98|                 N|       1.0|  0.5|                  0.3|    0.5|       2|       20.5|        21.8|         2.0|       0.0|          89|                 0.0|            1.0|2020-01-01 01:03:14|2020-01-01 01:29:45|         225|       green|\n",
      "|         0.0|         0.71|                 N|       1.0|  0.5|                  0.3|    0.5|       2|        5.5|         6.8|         2.0|       0.0|         129|                 0.0|            1.0|2020-01-01 00:04:11|2020-01-01 00:09:48|         129|       green|\n",
      "|         0.0|          0.8|                 N|       1.0|  0.5|                  0.3|    0.5|       2|        5.5|         6.8|         2.0|       0.0|          83|                 0.0|            1.0|2020-01-01 00:25:52|2020-01-01 00:32:16|         129|       green|\n",
      "|         0.0|         1.52|                 N|       1.0|  0.5|                  0.3|    0.5|       2|        9.5|        10.8|         2.0|       0.0|         173|                 0.0|            1.0|2020-01-01 00:47:32|2020-01-01 00:59:25|          82|       green|\n",
      "|         0.0|          3.8|                 N|       1.0|  0.5|                  0.3|    0.5|       1|       14.0|        15.3|         2.0|       0.0|          69|                 0.0|            1.0|2020-01-01 00:26:40|2020-01-01 00:40:42|          74|       green|\n",
      "|         0.0|         1.12|                 N|       1.0|  0.5|                  0.3|    0.5|       2|        6.5|         7.8|         1.0|       0.0|          41|                 0.0|            1.0|2020-01-01 00:38:47|2020-01-01 00:46:02|          74|       green|\n",
      "|         0.0|         5.67|                 N|       1.0|  0.5|                  0.3|    0.5|       2|       19.0|        20.3|         2.0|       0.0|         127|                 0.0|            1.0|2020-01-01 00:52:18|2020-01-01 01:09:58|          41|       green|\n",
      "|         0.0|         1.86|                 N|       1.0|  0.5|                  0.3|    0.5|       2|        9.5|        10.8|         2.0|       0.0|         260|                 0.0|            1.0|2020-01-01 00:16:01|2020-01-01 00:26:40|           7|       green|\n",
      "|         0.0|         1.42|                 N|       1.0|  0.5|                  0.3|    0.5|       2|        7.0|         8.3|         2.0|       0.0|           7|                 0.0|            1.0|2020-01-01 00:21:15|2020-01-01 00:28:03|           7|       green|\n",
      "|         0.0|        15.48|                 N|       1.0|  0.5|                  0.3|    0.5|       2|       43.0|       53.16|         1.0|      8.86|         133|                 0.0|            1.0|2020-01-01 00:35:42|2020-01-01 01:02:00|           7|       green|\n",
      "|         0.0|         1.15|                 N|       1.0|  0.5|                  0.3|    0.5|       2|        5.5|         7.8|         1.0|       1.0|          28|                 0.0|            1.0|2020-01-01 00:39:51|2020-01-01 00:42:54|         134|       green|\n",
      "|         0.0|          2.3|                 N|       1.0|  0.5|                  0.3|    0.5|       1|       10.0|        11.3|         2.0|       0.0|          39|                 0.0|            1.0|2020-01-01 00:00:21|2020-01-01 00:10:19|          89|       green|\n",
      "|         0.0|          1.0|                 N|       1.0|  0.5|                  0.3|    0.5|       1|        6.5|         7.8|         2.0|       0.0|          65|                 0.0|            3.0|2020-01-01 00:13:59|2020-01-01 00:21:31|          66|       green|\n",
      "+------------+-------------+------------------+----------+-----+---------------------+-------+--------+-----------+------------+------------+----------+------------+--------------------+---------------+-------------------+-------------------+------------+------------+\n",
      "only showing top 20 rows\n",
      "\n"
     ]
    }
   ],
   "source": [
    "df_green_intersect = df_green.select(same_columns).withColumn(\"service_type\", F.lit(\"green\"))\n",
    "df_yellow_intersect = df_yellow.select(same_columns).withColumn(\"service_type\", F.lit(\"yellow\"))\n",
    "df_join = df_green_intersect.unionAll(df_yellow_intersect)\n",
    "df_join.show()"
   ]
  },
  {
   "cell_type": "code",
   "execution_count": 13,
   "id": "0fa0ab0f-9735-4a82-8ad8-43b5688a46f2",
   "metadata": {},
   "outputs": [
    {
     "data": {
      "text/plain": [
       "DataFrame[tolls_amount: double, trip_distance: double, store_and_fwd_flag: string, RatecodeID: double, extra: double, improvement_surcharge: double, mta_tax: double, VendorID: bigint, fare_amount: double, total_amount: double, payment_type: double, tip_amount: double, DOLocationID: bigint, congestion_surcharge: double, passenger_count: double, pickup_datetime: timestamp_ntz, dropoff_datetime: timestamp_ntz, PULocationID: bigint, service_type: string]"
      ]
     },
     "execution_count": 13,
     "metadata": {},
     "output_type": "execute_result"
    }
   ],
   "source": [
    "df_join.createOrReplaceTempView(\"trips_data\")\n",
    "spark.sql(\"\"\" \n",
    "    SELECT * FROM trips_data limit 10;\n",
    "\"\"\")"
   ]
  },
  {
   "cell_type": "code",
   "execution_count": 21,
   "id": "71fbbdb4-aa65-4fd5-b513-76527c1bf315",
   "metadata": {},
   "outputs": [
    {
     "name": "stdout",
     "output_type": "stream",
     "text": [
      "+-------------------+------------------+\n",
      "|      operating_day|        total_fare|\n",
      "+-------------------+------------------+\n",
      "|2020-01-01 00:00:00|2534312.9700000323|\n",
      "|2020-01-02 00:00:00| 2454027.490000019|\n",
      "|2020-01-03 00:00:00| 2586000.640000038|\n",
      "|2020-01-04 00:00:00| 2477682.280000023|\n",
      "|2020-01-05 00:00:00|2381192.0900000334|\n",
      "|2020-01-06 00:00:00|2628954.4500000756|\n",
      "|2020-01-07 00:00:00| 2816743.490000075|\n",
      "|2020-01-08 00:00:00|2990385.9300000835|\n",
      "|2020-01-09 00:00:00| 3256853.190000062|\n",
      "|2020-01-10 00:00:00| 3255155.520000089|\n",
      "|2020-01-11 00:00:00|2926044.6000000434|\n",
      "|2020-01-12 00:00:00| 2671900.150000052|\n",
      "|2020-01-13 00:00:00| 2952113.180000025|\n",
      "|2020-01-14 00:00:00|2969501.2100000256|\n",
      "|2020-01-15 00:00:00| 2993489.930000032|\n",
      "|2020-01-16 00:00:00|3269153.5200000303|\n",
      "|2020-01-17 00:00:00| 3314316.640000031|\n",
      "|2020-01-18 00:00:00| 2405617.920000019|\n",
      "|2020-01-19 00:00:00|2347138.9700000198|\n",
      "|2020-01-20 00:00:00| 2259042.620000005|\n",
      "+-------------------+------------------+\n",
      "only showing top 20 rows\n",
      "\n"
     ]
    }
   ],
   "source": [
    "spark.sql(\"\"\" \n",
    "    SELECT date_trunc('day', pickup_datetime) as operating_day, SUM(fare_amount) as total_fare FROM trips_data WHERE pickup_datetime  like '2020-01-%' GROUP BY date_trunc('day', pickup_datetime) order by operating_day;\n",
    "\"\"\").show()"
   ]
  },
  {
   "cell_type": "code",
   "execution_count": null,
   "id": "4bc96c86-4377-4ac7-8d22-037ceed77ebb",
   "metadata": {},
   "outputs": [],
   "source": []
  }
 ],
 "metadata": {
  "kernelspec": {
   "display_name": "Python 3 (ipykernel)",
   "language": "python",
   "name": "python3"
  },
  "language_info": {
   "codemirror_mode": {
    "name": "ipython",
    "version": 3
   },
   "file_extension": ".py",
   "mimetype": "text/x-python",
   "name": "python",
   "nbconvert_exporter": "python",
   "pygments_lexer": "ipython3",
   "version": "3.8.10"
  }
 },
 "nbformat": 4,
 "nbformat_minor": 5
}
